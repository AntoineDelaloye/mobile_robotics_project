{
 "cells": [
  {
   "cell_type": "markdown",
   "metadata": {},
   "source": [
    "*Notebook for now because it's easier to debug, should be a python file*"
   ]
  },
  {
   "cell_type": "code",
   "execution_count": 34,
   "metadata": {},
   "outputs": [],
   "source": [
    "from matplotlib import pyplot as plt\n",
    "import cv2\n",
    "import numpy as np\n",
    "from IPython.display import display, Image\n",
    "import ipywidgets as widgets\n",
    "import threading\n",
    "from skimage import color\n",
    "from skimage import io\n",
    "import math"
   ]
  },
  {
   "cell_type": "code",
   "execution_count": null,
   "metadata": {},
   "outputs": [],
   "source": [
    "class Vision:\n",
    "  def __init__(self):\n",
    "    self.capture = cv2.VideoCapture(1) # capture the camera\n",
    "    self.window_width = 640\n",
    "    self.window_height = 480\n",
    "    self.min_radius = round(self.window_width/65)\n",
    "    self.max_radius = round(self.window_width/3)\n",
    "    self.min_rad_dis = round(self.window_width/20)\n",
    "    self.robot_pos = (0,0,0)\n",
    "    self.obstacles = None # tbd\n",
    "    self.map = None # tbd\n",
    "\n",
    "\n",
    "  \n",
    "  def openWindow(self):\n",
    "    while True:\n",
    "      success, img = self.capture.read()\n",
    "\n",
    "      gray = cv2.cvtColor(img, cv2.COLOR_BGR2GRAY)\n",
    "      hist = cv2.equalizeHist(gray)\n",
    "      blur = cv2.GaussianBlur(hist, (5,5), cv2.BORDER_DEFAULT)\n",
    "      \n",
    "      self.circles = cv2.HoughCircles(blur, cv2.HOUGH_GRADIENT, 1, self.min_rad_dis, param1=150, param2=50, \n",
    "                                minRadius=self.min_radius, maxRadius=self.max_radius)\n",
    "\n",
    "      if self.circles is not None:\n",
    "          self.circlescircles = np.round(self.circles[0, :]).astype(\"int\")\n",
    "          for (x, y, r) in self.circles:\n",
    "              cv2.circle(img, (x, y), r, (0, 255, 0), 2)\n",
    "              cv2.circle(img, (x, y), 3, (0, 128, 255), 2)\n",
    "\n",
    "      cv2.imshow(\"Webcam\", img) # This will open an independent window\n",
    "      if cv2.waitKey(1) & 0xFF==ord('q'): # quit when 'q' is pressed\n",
    "          self.capture.release()\n",
    "          break\n",
    "\n",
    "    cv2.destroyAllWindows() \n",
    "    cv2.waitKey(1)\n",
    "\n",
    "  def updateRobot(self,new_pose):\n",
    "    self.robot_pos = new_pose\n",
    "\n",
    "  def calcRobotPose(circle1,circle2):\n",
    "    center_x = (circle1[0]+circle2[0])/2\n",
    "    center_y = (circle1[1]+circle2[1])/2\n",
    "    angle = math.atan2(circle2[1]-circle1[1],circle2[0]-circle1[0])\n",
    "    return (center_x,center_y,angle)\n",
    "    \n"
   ]
  }
 ],
 "metadata": {
  "kernelspec": {
   "display_name": "Python 3.10.8 ('mobile')",
   "language": "python",
   "name": "python3"
  },
  "language_info": {
   "codemirror_mode": {
    "name": "ipython",
    "version": 3
   },
   "file_extension": ".py",
   "mimetype": "text/x-python",
   "name": "python",
   "nbconvert_exporter": "python",
   "pygments_lexer": "ipython3",
   "version": "3.10.8"
  },
  "orig_nbformat": 4,
  "vscode": {
   "interpreter": {
    "hash": "b62b9b2d2eb6a420240c37b2ad343902381595c0efa78d21bbefc4e5a47b7802"
   }
  }
 },
 "nbformat": 4,
 "nbformat_minor": 2
}
