{
 "cells": [
  {
   "attachments": {},
   "cell_type": "markdown",
   "metadata": {},
   "source": [
    "<div style=\"text-align: justify\">\n",
    "\n",
    "The global navigation module is called after initializing the camera and taking a first image. The data that it needs are the start coordinates, the goal coordinates  (both from the initialization module of vision) and the obstacle grid is composed of ones and zeros (1 means obstacle, 0 means free square). We give also to this module the value of millimeters per square.<br>\n",
    "<br>\n",
    "In order to have the robot find the optimal path from the start point, to the goal we chose, we decided to have an A-star algorithm. It is an efficient and easy to implement solution for path planning. It also allows us to use a \"pixelised\" version of the arena with the detection of the fixed obstacles. As the robot is bigger than a single pixel, we cannot follow a path with an obstacle on the pixel right next to it <br>\n",
    "Therefore, by verifying a few \"neighboring\" pixels, we can adjust the grid of the obstacles to have slightly bigger ones. We are using here the value of millimeters per square to determine how much we need to adjust the obstacles for the robot to be able to go past them. The following code compute the neighboring squares and updates the grid. The radius value corresponds to the number of squares around the center of the robot that are needed for it to avoid the fixed obstacles. The function *neighbors* returns a matrix of the neighboring squares. If any of these neighboring squares are from an obstacle, we need to update the center point to 1 (value for an obstacle) in the *grid_adjustement* function.</div>\n",
    "```python\n",
    "def neighbors(row_number, column_number, radius, grid):\n",
    "  return np.matrix([[grid[i][j] if  i >= 0 and i < len(grid) and j >= 0 and j < len(grid[0]) else 0\n",
    "\t\t\tfor j in range(column_number-1-radius, column_number+radius)]\n",
    "\t\t\t  for i in range(row_number-1-radius, row_number+radius)])\n",
    "\n",
    "def grid_adjustement(occupancy_grid, height, width, radius):\n",
    "  occupancy_neighbors = occupancy_grid.copy()\n",
    "  for i in range(height):\n",
    "    for j in range(width):\n",
    "\t  sum_obstacles = np.matrix.sum(neighbors(i, j, radius, occupancy_grid))\n",
    "\t  if sum_obstacles != 0:\n",
    "\t\toccupancy_neighbors[i][j] = 1\n",
    "  return occupancy_neighbors\n",
    "```\n",
    "We can have a look at a typical result of our A-star algorithm run on the map with the augmentation of the obstacles mentioned above <br>\n",
    "\n",
    "<center><img src=\"images/A_star_typical.png\"></center>\n",
    "<center>Typical A-star algorithm run</center>\n",
    "\n",
    "\n",
    "Our A-star algorithm was inspired by the work we did in the practicals from the *Basics of Mobile Robotics* course [ref]. The pseudo-code came from [ref to wikipedia]. <br>\n",
    "<br>\n",
    "There are other possible solution to the path planning problem. For example, visibility graphs or cell decomposition could be good solutions but it is either far more complex to implement or complicated to implement with local avoidance. A solution using potential field could get the robot stuck by trying to take a route to a dead end.\n",
    "\n",
    "\n",
    "# setup\n",
    "\n",
    "<div style=\"text-align: justify\">\n",
    "The setup for our project is very simple. It consists of an open arena (no marked boundaries), with black obstacles made of paper, a neutral background (as we tested and tuned the parameters, grey background works fine) and a simple flat red cirle as an objective. Two circles of different color (here blue and red) are placed on top of the thymio in order to have its position and its direction angle. Discussion about these choices can be found in the vision module.<br>\n",
    "The object that is used for local avoidance is simply a piece of paper rolled on it self to build a cylinder. More explaination can be found in the local navigation module.\n",
    "</div>\n",
    "(*insert a good setup image here*)\n",
    "\n",
    "# References\n",
    "\n",
    "[1] https://moodle.epfl.ch/course/view.php?id=15293#section-5 <br>\n",
    "[2] https://en.wikipedia.org/wiki/A*_search_algorithm#Pseudocode <br>\n",
    "[3] "
   ]
  }
 ],
 "metadata": {
  "language_info": {
   "name": "python"
  },
  "orig_nbformat": 4
 },
 "nbformat": 4,
 "nbformat_minor": 2
}
